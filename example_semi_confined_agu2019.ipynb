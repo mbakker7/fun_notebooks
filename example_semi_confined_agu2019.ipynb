{
 "cells": [
  {
   "cell_type": "code",
   "execution_count": 1,
   "metadata": {
    "tags": [
     "hide_input"
    ]
   },
   "outputs": [],
   "source": [
    "%matplotlib inline\n",
    "import numpy as np\n",
    "import matplotlib.pyplot as plt\n",
    "from ipywidgets import interact"
   ]
  },
  {
   "cell_type": "markdown",
   "metadata": {},
   "source": [
    "### Solution 10. Semi-confined flow between two polders\n",
    "Consider one-dimensional flow between two polders with different water levels, as shown in the figure below; the semi-confining layer at the left has a resistance $c_0$ and the semi-confining layer on the right has a resistance $c_1$. The two polders are separated by a dike. The width of the dike is neglected (the vertical black line in the figure). The water level in the polder on the left is $h_0^*$ while the water level in the polder on the right is $h_1^*$.\n",
    "The semi-confined aquifer extends to infinity on both sides. The transmissivity is the same on both sides and equal to $T$. \n",
    "The governing differential equations are\n",
    "\\begin{equation}\\begin{split}\n",
    "\\frac{\\text{d}^2(h-h_0^*)}{\\text{d}x^2} &= \\frac{h-h_0^*}{\\lambda_0^2}  \\hskip 2em  x\\le 0 \\\\\n",
    "\\frac{\\text{d}^2(h-h_1^*)}{\\text{d}x^2} &= \\frac{h-h_1^*}{\\lambda_1^2}  \\hskip 2em  x\\ge 0 \n",
    "\\end{split}\\end{equation}\n",
    "where $\\lambda_0=\\sqrt{c_0T}$ and $\\lambda_1=\\sqrt{c_1T}$. There are separate solutions for the left and right sides:\n",
    "\\begin{equation}\\begin{split}\n",
    "h=h_0^* +  A_0\\text{e}^{-x/\\lambda_0} + B_0\\text{e}^{x/\\lambda_0}  \\hskip 2em x\\le 0 \\\\\n",
    "h=h_1^* + A_1\\text{e}^{-x/\\lambda_1} + B_1\\text{e}^{x/\\lambda_1}  \\hskip 2em x\\ge 0 \\\\\n",
    "\\end{split}\\end{equation}"
   ]
  },
  {
   "cell_type": "code",
   "execution_count": 2,
   "metadata": {
    "tags": [
     "hide_input"
    ]
   },
   "outputs": [
    {
     "data": {
      "image/png": "[encoded data removed]",
      "text/plain": [
       "<Figure size 576x288 with 1 Axes>"
      ]
     },
     "metadata": {
      "needs_background": "light"
     },
     "output_type": "display_data"
    }
   ],
   "source": [
    "plt.figure(figsize=(8, 4))\n",
    "plt.plot([-0.1,  1.1], [0, 0], 'k', lw=1)\n",
    "plt.fill([-0.1, 1.1, 1.1, -0.1], [0.8, 0.8, 1, 1], color='grey')\n",
    "plt.plot([-0.1,  0.5], [1.2, 1.2], 'C0')\n",
    "plt.plot([0.5,  1.1], [1.1, 1.1], 'C0')\n",
    "plt.plot([0.5, 0.5], [0.8, 1.3], 'k')\n",
    "plt.text(0.25, 1.25, '$h^*_0$', ha='left')\n",
    "plt.text(0.75, 1.15, '$h^*_1$', ha='center')\n",
    "plt.ylim(-0.2, 1.4)\n",
    "plt.plot([0.5, 0.5], [-0.05, -0.15], 'k')\n",
    "plt.annotate(\"$x$\", va='center',\n",
    "            xy=(0.5, -0.1), \n",
    "            xytext=(0.6, -0.1), \n",
    "            arrowprops=dict(arrowstyle=\"<-\", shrinkA=0, shrinkB=0))\n",
    "plt.annotate(\"$c_0$\", va='center',\n",
    "            xy=(0.2, 0.8), \n",
    "            xytext=(0.3, 0.6), \n",
    "            arrowprops=dict(arrowstyle=\"-\", shrinkA=0, shrinkB=0))\n",
    "plt.annotate(\"$c_1$\", va='center',\n",
    "            xy=(0.8, 0.8), \n",
    "            xytext=(0.9, 0.6), \n",
    "            arrowprops=dict(arrowstyle=\"-\", shrinkA=0, shrinkB=0))\n",
    "plt.axis('off');"
   ]
  },
  {
   "cell_type": "markdown",
   "metadata": {},
   "source": [
    "The boundary conditions are that the head approaches $h_0^*$ far to the left and $h_1^*$ far to the right\n",
    "\\begin{equation}\\begin{split}\n",
    "&x\\to-\\infty \\hskip 2em h=h_0^* \\\\\n",
    "&x\\to+\\infty \\hskip 2em h=h_1^* \\\\\n",
    "\\end{split}\\end{equation}\n",
    "and continuity requires that the head and flow are continuous at $x=0$\n",
    "\\begin{equation}\\begin{split}\n",
    "&h(x=0^-)=h(x=0^+) \\\\\n",
    "&Q_x(x=0^-)=Q_x(x=0^+) \n",
    "\\end{split}\\end{equation}\n",
    "where $0^-$ and $0^+$ stand for just to the left and just to the right of zero, respectively. Application of the first two boundary conditions gives $A_0=0$ and $B_1=0$, after which application of the two continuity conditions gives the following two equations \n",
    "\\begin{equation}\\begin{split}\n",
    "h_0^*+B_0 &= h_1^* + A_1 \\\\\n",
    "-T\\frac{B_0}{\\lambda_0} &= T\\frac{A_1}{\\lambda_1}\n",
    "\\end{split}\\end{equation}\n",
    "Solving for the two remaining unknowns $A_1$ and $B_0$ gives\n",
    "\\begin{equation}\n",
    "A_1 = \\frac{\\lambda_1}{\\lambda_0+\\lambda_1}(h_0^*-h_1^*)  \\hskip 2em \n",
    "B_0 = -\\frac{\\lambda_0}{\\lambda_0+\\lambda_1}(h_0^*-h_1^*)\n",
    "\\end{equation}\n",
    "and hence\n",
    "\\begin{equation}\\begin{split}\n",
    "h&=h_0^*  -\\frac{\\lambda_0}{\\lambda_0+\\lambda_1}(h_0^*-h_1^*) \\text{e}^{x/\\lambda_0}  \\hskip 2em x\\le 0 \\\\\n",
    "h&=h_1^* + \\frac{\\lambda_1}{\\lambda_0+\\lambda_1}(h_0^*-h_1^*) \\text{e}^{-x/\\lambda_1} \\hskip 2em x\\ge 0 \\\\\n",
    "\\end{split}\\end{equation}\n",
    "Note that for the case of equal resistance values (so that $\\lambda_0=\\lambda_1$), the head in the aquifer at $x=0$ is $(h_0^*+h_1^*)/2$ as is to be expected from symmetry when the aquifer properties are the same on the left and right sides of the dike. \n",
    "\n",
    "The discharge vector is obtained as\n",
    "\\begin{equation}\n",
    "Q_x=-T\\frac{\\text{d}h}{\\text{d}x}\n",
    "\\end{equation}\n",
    "which gives\n",
    "\\begin{equation}\\begin{split}\n",
    "Q_x&=\\frac{T(h_0^*-h_1^*)}{\\lambda_0+\\lambda_1} \\text{e}^{x/\\lambda_0}  \\hskip 2em x\\le 0 \\\\\n",
    "Q_x&=\\frac{T(h_0^*-h_1^*)}{\\lambda_0+\\lambda_1} \\text{e}^{-x/\\lambda_1} \\hskip 2em x\\ge 0 \\\\\n",
    "\\end{split}\\end{equation}\n",
    "The total flow $Q_0$ from the polder on the left to the polder on the right is \n",
    "\\begin{equation}\n",
    "Q_0=Q_x(x=0)=\\frac{T(h_0^*-h_1^*)}{\\lambda_0+\\lambda_1}\n",
    "\\end{equation}\n",
    "Note again that 95% of the $Q_0$ has leaked from the polder into the aquifer over a distance of $3\\lambda_0$ to the left of the dike, and 95% of the $Q_0$ has discharged and into the polder on the right over a distance of $3\\lambda_1$. In other words, three times the leakage factor away from a disturbance, the head in the aquifer is approximately equal to the head above the semi-confining layer. \n",
    "\n",
    "An example is presented below:"
   ]
  },
  {
   "cell_type": "code",
   "execution_count": 3,
   "metadata": {
    "tags": [
     "hide_input"
    ]
   },
   "outputs": [
    {
     "data": {
      "application/vnd.jupyter.widget-view+json": {
       "model_id": "683d98cbd59d4139818e64b1098156fe",
       "version_major": 2,
       "version_minor": 0
      },
      "text/plain": [
       "interactive(children=(IntSlider(value=100, description='c0', max=600, min=50, step=50), IntSlider(value=400, d…"
      ]
     },
     "metadata": {},
     "output_type": "display_data"
    }
   ],
   "source": [
    "def makeplot(c0=100, c1=400):\n",
    "    # parameters\n",
    "    h0star = 1\n",
    "    h1star = -1\n",
    "    k = 10\n",
    "    H = 10\n",
    "    # solution h, Qx\n",
    "    T = k * H\n",
    "    lab0 = np.sqrt(c0 * T)\n",
    "    lab1 = np.sqrt(c1 * T)\n",
    "    x = np.linspace(-1000, 1000, 101)\n",
    "    h = np.zeros_like(x)\n",
    "    h[x < 0]  = h0star - lab0 / (lab0 + lab1) * (h0star - h1star) * np.exp(x[x < 0] / lab0)\n",
    "    h[x >= 0] = h1star + lab1 / (lab0 + lab1) * (h0star - h1star) * np.exp(-x[x >= 0] / lab1)\n",
    "    Qx = np.zeros_like(x)\n",
    "    Qx[x<0] = T * (h0star - h1star) / (lab0 + lab1) * np.exp(x[x<0] / lab0)\n",
    "    Qx[x>=0] = T * (h0star - h1star) / (lab0 + lab1) * np.exp(-x[x>=0] / lab1)\n",
    "    # solution psi\n",
    "    psi = np.zeros((2, len(x)))\n",
    "    psi[1] = -Qx\n",
    "    xg = x\n",
    "    zg = [0, H]\n",
    "    # plot\n",
    "    plt.figure(figsize=(10, 8))\n",
    "    plt.subplot(211)\n",
    "    plt.xlim(-1000, 1000)\n",
    "    plt.ylabel('head')\n",
    "    plt.plot(x, h)\n",
    "    plt.axvline(-3 * lab0, linestyle=':', color='C2')\n",
    "    plt.axvline(3 * lab1, linestyle=':', color='C2')\n",
    "    plt.axvline(0, linestyle=':', color='C1')\n",
    "    plt.text(-3 * lab0, -1, r'$-3\\lambda_0$', ha='left', va='bottom')\n",
    "    plt.text(3 * lab1, -1, r'$3\\lambda_1$', ha='right', va='bottom')\n",
    "    plt.subplot(212)\n",
    "    plt.title('streamlines')\n",
    "    plt.contour(xg, zg, psi, 20, colors='C0', linestyles='-')\n",
    "    plt.axvline(-3 * lab0, linestyle=':', color='C2')\n",
    "    plt.axvline(3 * lab1, linestyle=':', color='C2')\n",
    "    plt.text(-3 * lab0, 0.2, r'$-3\\lambda_0$', ha='left', va='bottom')\n",
    "    plt.text(3 * lab1, 0.2, r'$3\\lambda_1$', ha='right', va='bottom')\n",
    "    plt.xlim(-1000, 1000)\n",
    "    plt.xlabel('x (m)')\n",
    "    plt.ylabel('z (m)')\n",
    "    \n",
    "interact(makeplot, c0=(50, 600, 50), c1=(50, 600, 50));"
   ]
  }
 ],
 "metadata": {
  "celltoolbar": "Tags",
  "kernelspec": {
   "display_name": "Python 3",
   "language": "python",
   "name": "python3"
  },
  "language_info": {
   "codemirror_mode": {
    "name": "ipython",
    "version": 3
   },
   "file_extension": ".py",
   "mimetype": "text/x-python",
   "name": "python",
   "nbconvert_exporter": "python",
   "pygments_lexer": "ipython3",
   "version": "3.7.4"
  },
  "latex_envs": {
   "LaTeX_envs_menu_present": true,
   "autoclose": false,
   "autocomplete": true,
   "bibliofile": "biblio.bib",
   "cite_by": "apalike",
   "current_citInitial": 1,
   "eqLabelWithNumbers": true,
   "eqNumInitial": 1,
   "hotkeys": {
    "equation": "Ctrl-E",
    "itemize": "Ctrl-I"
   },
   "labels_anchors": false,
   "latex_user_defs": false,
   "report_style_numbering": false,
   "user_envs_cfg": false
  },
  "varInspector": {
   "cols": {
    "lenName": 16,
    "lenType": 16,
    "lenVar": 40
   },
   "kernels_config": {
    "python": {
     "delete_cmd_postfix": "",
     "delete_cmd_prefix": "del ",
     "library": "var_list.py",
     "varRefreshCmd": "print(var_dic_list())"
    },
    "r": {
     "delete_cmd_postfix": ") ",
     "delete_cmd_prefix": "rm(",
     "library": "var_list.r",
     "varRefreshCmd": "cat(var_dic_list()) "
    }
   },
   "types_to_exclude": [
    "module",
    "function",
    "builtin_function_or_method",
    "instance",
    "_Feature"
   ],
   "window_display": false
  }
 },
 "nbformat": 4,
 "nbformat_minor": 2
}
